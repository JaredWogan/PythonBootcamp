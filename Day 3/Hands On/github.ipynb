{
 "cells": [
  {
   "cell_type": "markdown",
   "metadata": {},
   "source": [
    "# How to Git\n",
    "\n",
    "ssh-keygen -t ed25519 -C \"your_email@example.com\"\n",
    "- Then add the key to github\n",
    "\n",
    "git branch\n",
    "git branch \\< branch name \\>\n",
    "\n",
    "git add -all\n",
    "git add \\< file \\> ...\n",
    "\n",
    "git commit -m \"message\"\n",
    "\n",
    "git push\n",
    "git pull"
   ]
  }
 ],
 "metadata": {
  "kernelspec": {
   "display_name": "Python 3.9.12 ('base')",
   "language": "python",
   "name": "python3"
  },
  "language_info": {
   "name": "python",
   "version": "3.9.12"
  },
  "orig_nbformat": 4,
  "vscode": {
   "interpreter": {
    "hash": "f911220fbeb2c6344ecbe62d4c86993e31b532b1f4470593a93b0254da2ba903"
   }
  }
 },
 "nbformat": 4,
 "nbformat_minor": 2
}
