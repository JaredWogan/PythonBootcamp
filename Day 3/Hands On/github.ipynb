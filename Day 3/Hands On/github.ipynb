{
 "cells": [
  {
   "cell_type": "markdown",
   "metadata": {},
   "source": [
    "# How to Git\n",
    "\n",
    "0. May be necessary to create an SSH key\n",
    "\n",
    "```ssh-keygen -t ed25519 -C \"your_email@example.com\"```\n",
    "\n",
    "1. Create a new repository on the command line\n",
    "   \n",
    "```git init```\n",
    "\n",
    "2. Create the repository on GitHub\n",
    "   \n",
    "```git remote add origin <link>```\n",
    "\n",
    "3. Select you branch (optional: defaults to master / main)\n",
    "   \n",
    "```git branch```\n",
    "\n",
    "```git branch <branch>```\n",
    "\n",
    "4. Add files to the staging area\n",
    "   \n",
    "```git add --all```\n",
    "```git add <file>```\n",
    "\n",
    "5. Commit the files, adding a message\n",
    "   \n",
    "```git commit -m \"message\"```\n",
    "\n",
    "6. Push the files to the remote repository\n",
    "```git push```\n",
    "```git pull```"
   ]
  }
 ],
 "metadata": {
  "kernelspec": {
   "display_name": "Python 3.9.12 ('base')",
   "language": "python",
   "name": "python3"
  },
  "language_info": {
   "name": "python",
   "version": "3.9.12"
  },
  "orig_nbformat": 4,
  "vscode": {
   "interpreter": {
    "hash": "f911220fbeb2c6344ecbe62d4c86993e31b532b1f4470593a93b0254da2ba903"
   }
  }
 },
 "nbformat": 4,
 "nbformat_minor": 2
}
