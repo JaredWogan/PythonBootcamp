{
 "cells": [
  {
   "cell_type": "markdown",
   "metadata": {},
   "source": [
    "# How to Git\n",
    "\n",
    "### May be necessary to create an SSH key\n",
    "\n",
    "Useful resources:\n",
    "\n",
    "[Generate an SSH key](https://docs.github.com/en/authentication/connecting-to-github-with-ssh/generating-a-new-ssh-key-and-adding-it-to-the-ssh-agent)\n",
    "\n",
    "[Adding an SSH on Github](https://docs.github.com/en/authentication/connecting-to-github-with-ssh/adding-a-new-ssh-key-to-your-github-account)\n",
    "\n",
    "```ssh-keygen -t ed25519 -C \"your_email@example.com\"```\n",
    "\n",
    "### Create a new repository on the command line\n",
    "\n",
    "Within the folder you wish to create the repostory in, write the following in a terminal:\n",
    "   \n",
    "```git init```\n",
    "\n",
    "### Create the repository on GitHub\n",
    "\n",
    "Find the link in the upper right corner of the newly created repository on github\n",
    "   \n",
    "```git remote add origin <link>```\n",
    "\n",
    "### Select you branch (optional: defaults to master / main)\n",
    "\n",
    "This isn't necessary, as github creates a master branch by default\n",
    "   \n",
    "```git branch```\n",
    "\n",
    "```git branch <branch>```\n",
    "\n",
    "### Add files to the staging area\n",
    "   \n",
    "```git add --all```\n",
    "\n",
    "```git add <file>```\n",
    "\n",
    "### Commit the files, adding a message\n",
    "   \n",
    "```git commit -m \"message\"```\n",
    "\n",
    "### Push the files to the remote repository\n",
    "\n",
    "```git push```\n",
    "\n",
    "```git pull```\n"
   ]
  }
 ],
 "metadata": {
  "kernelspec": {
   "display_name": "Python 3.9.12 ('base')",
   "language": "python",
   "name": "python3"
  },
  "language_info": {
   "name": "python",
   "version": "3.9.12"
  },
  "orig_nbformat": 4,
  "vscode": {
   "interpreter": {
    "hash": "f911220fbeb2c6344ecbe62d4c86993e31b532b1f4470593a93b0254da2ba903"
   }
  }
 },
 "nbformat": 4,
 "nbformat_minor": 2
}
