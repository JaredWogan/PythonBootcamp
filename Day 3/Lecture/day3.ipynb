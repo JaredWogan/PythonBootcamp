{
 "cells": [
  {
   "cell_type": "code",
   "execution_count": null,
   "metadata": {},
   "outputs": [
    {
     "name": "stdout",
     "output_type": "stream",
     "text": [
      "{'Num': '1P', 'Name': 'Halley', 'Epoch': 49400, 'q': 0.58597811, 'e': 0.96714291, 'i': 62.26269, 'w': 111.33249, 'Node': 58.42008, 'Tp': 19860205.89532, 'Ref': 'JPL J863/77'}\n"
     ]
    }
   ],
   "source": [
    "data = []\n",
    "\n",
    "with open(\"data.txt\", \"r\") as f:\n",
    "    # Reading one line at a time\n",
    "    headings = f.readline().strip(\"\\n\").split(\",\")\n",
    "    for line in f:\n",
    "        items = line.split(\",\")\n",
    "        items[1] = items[1].strip()\n",
    "        items[-1] = items[-1].strip(\"\\n\")\n",
    "        items[2] = int(items[2])\n",
    "        for i in range(3, 9):\n",
    "            items[i] = float(items[i])\n",
    "        data.append(\n",
    "            dict(\n",
    "                (heading, item)\n",
    "                for heading, item in zip(headings, items)\n",
    "            )\n",
    "        )\n",
    "\n",
    "print(data[0])"
   ]
  },
  {
   "cell_type": "code",
   "execution_count": null,
   "metadata": {},
   "outputs": [
    {
     "data": {
      "text/html": [
       "<div>\n",
       "<style scoped>\n",
       "    .dataframe tbody tr th:only-of-type {\n",
       "        vertical-align: middle;\n",
       "    }\n",
       "\n",
       "    .dataframe tbody tr th {\n",
       "        vertical-align: top;\n",
       "    }\n",
       "\n",
       "    .dataframe thead th {\n",
       "        text-align: right;\n",
       "    }\n",
       "</style>\n",
       "<table border=\"1\" class=\"dataframe\">\n",
       "  <thead>\n",
       "    <tr style=\"text-align: right;\">\n",
       "      <th></th>\n",
       "      <th>Num</th>\n",
       "      <th>Name</th>\n",
       "      <th>Epoch</th>\n",
       "      <th>q</th>\n",
       "      <th>e</th>\n",
       "      <th>i</th>\n",
       "      <th>w</th>\n",
       "      <th>Node</th>\n",
       "      <th>Tp</th>\n",
       "      <th>Ref</th>\n",
       "    </tr>\n",
       "  </thead>\n",
       "  <tbody>\n",
       "    <tr>\n",
       "      <th>0</th>\n",
       "      <td>1P</td>\n",
       "      <td>Halley</td>\n",
       "      <td>49400</td>\n",
       "      <td>0.585978</td>\n",
       "      <td>0.967143</td>\n",
       "      <td>62.26269</td>\n",
       "      <td>111.33249</td>\n",
       "      <td>58.42008</td>\n",
       "      <td>1.986021e+07</td>\n",
       "      <td>JPL J863/77</td>\n",
       "    </tr>\n",
       "    <tr>\n",
       "      <th>1</th>\n",
       "      <td>2P</td>\n",
       "      <td>Encke</td>\n",
       "      <td>57720</td>\n",
       "      <td>0.335906</td>\n",
       "      <td>0.848333</td>\n",
       "      <td>11.77837</td>\n",
       "      <td>186.56104</td>\n",
       "      <td>334.56111</td>\n",
       "      <td>2.017031e+07</td>\n",
       "      <td>JPL K173/2</td>\n",
       "    </tr>\n",
       "    <tr>\n",
       "      <th>2</th>\n",
       "      <td>3D</td>\n",
       "      <td>Biela</td>\n",
       "      <td>-9480</td>\n",
       "      <td>0.879073</td>\n",
       "      <td>0.751299</td>\n",
       "      <td>13.21640</td>\n",
       "      <td>221.65880</td>\n",
       "      <td>250.66900</td>\n",
       "      <td>1.832113e+07</td>\n",
       "      <td>IAUCAT03</td>\n",
       "    </tr>\n",
       "    <tr>\n",
       "      <th>3</th>\n",
       "      <td>4P</td>\n",
       "      <td>Faye</td>\n",
       "      <td>57262</td>\n",
       "      <td>1.651876</td>\n",
       "      <td>0.569618</td>\n",
       "      <td>9.07029</td>\n",
       "      <td>205.12582</td>\n",
       "      <td>199.14398</td>\n",
       "      <td>2.014053e+07</td>\n",
       "      <td>JPL K144/7</td>\n",
       "    </tr>\n",
       "    <tr>\n",
       "      <th>4</th>\n",
       "      <td>5D</td>\n",
       "      <td>Brorsen</td>\n",
       "      <td>7440</td>\n",
       "      <td>0.589847</td>\n",
       "      <td>0.809796</td>\n",
       "      <td>29.38210</td>\n",
       "      <td>14.94680</td>\n",
       "      <td>102.96760</td>\n",
       "      <td>1.879033e+07</td>\n",
       "      <td>IAUCAT03</td>\n",
       "    </tr>\n",
       "    <tr>\n",
       "      <th>5</th>\n",
       "      <td>6P</td>\n",
       "      <td>d'Arrest</td>\n",
       "      <td>57200</td>\n",
       "      <td>1.361455</td>\n",
       "      <td>0.611422</td>\n",
       "      <td>19.48168</td>\n",
       "      <td>178.11523</td>\n",
       "      <td>138.93371</td>\n",
       "      <td>2.015030e+07</td>\n",
       "      <td>JPL K155/3</td>\n",
       "    </tr>\n",
       "    <tr>\n",
       "      <th>6</th>\n",
       "      <td>7P</td>\n",
       "      <td>Pons-Winnecke</td>\n",
       "      <td>57380</td>\n",
       "      <td>1.238961</td>\n",
       "      <td>0.637617</td>\n",
       "      <td>22.33509</td>\n",
       "      <td>172.50006</td>\n",
       "      <td>93.40960</td>\n",
       "      <td>2.015013e+07</td>\n",
       "      <td>JPL K088/17</td>\n",
       "    </tr>\n",
       "    <tr>\n",
       "      <th>7</th>\n",
       "      <td>8P</td>\n",
       "      <td>Tuttle</td>\n",
       "      <td>54374</td>\n",
       "      <td>1.027117</td>\n",
       "      <td>0.819800</td>\n",
       "      <td>54.98318</td>\n",
       "      <td>207.50925</td>\n",
       "      <td>270.34165</td>\n",
       "      <td>2.008013e+07</td>\n",
       "      <td>JPL K074/27</td>\n",
       "    </tr>\n",
       "    <tr>\n",
       "      <th>8</th>\n",
       "      <td>9P</td>\n",
       "      <td>Tempel 1</td>\n",
       "      <td>57375</td>\n",
       "      <td>1.542369</td>\n",
       "      <td>0.509819</td>\n",
       "      <td>10.47332</td>\n",
       "      <td>179.18727</td>\n",
       "      <td>68.76828</td>\n",
       "      <td>2.016080e+07</td>\n",
       "      <td>JPL 160</td>\n",
       "    </tr>\n",
       "    <tr>\n",
       "      <th>9</th>\n",
       "      <td>10P</td>\n",
       "      <td>Tempel 2</td>\n",
       "      <td>57262</td>\n",
       "      <td>1.417645</td>\n",
       "      <td>0.537352</td>\n",
       "      <td>12.02891</td>\n",
       "      <td>195.54767</td>\n",
       "      <td>117.80539</td>\n",
       "      <td>2.015111e+07</td>\n",
       "      <td>JPL K1013/12</td>\n",
       "    </tr>\n",
       "  </tbody>\n",
       "</table>\n",
       "</div>"
      ],
      "text/plain": [
       "   Num           Name  Epoch         q         e         i          w  \\\n",
       "0   1P  Halley         49400  0.585978  0.967143  62.26269  111.33249   \n",
       "1   2P  Encke          57720  0.335906  0.848333  11.77837  186.56104   \n",
       "2   3D  Biela          -9480  0.879073  0.751299  13.21640  221.65880   \n",
       "3   4P  Faye           57262  1.651876  0.569618   9.07029  205.12582   \n",
       "4   5D  Brorsen         7440  0.589847  0.809796  29.38210   14.94680   \n",
       "5   6P  d'Arrest       57200  1.361455  0.611422  19.48168  178.11523   \n",
       "6   7P  Pons-Winnecke  57380  1.238961  0.637617  22.33509  172.50006   \n",
       "7   8P  Tuttle         54374  1.027117  0.819800  54.98318  207.50925   \n",
       "8   9P  Tempel 1       57375  1.542369  0.509819  10.47332  179.18727   \n",
       "9  10P  Tempel 2       57262  1.417645  0.537352  12.02891  195.54767   \n",
       "\n",
       "        Node            Tp           Ref  \n",
       "0   58.42008  1.986021e+07   JPL J863/77  \n",
       "1  334.56111  2.017031e+07    JPL K173/2  \n",
       "2  250.66900  1.832113e+07      IAUCAT03  \n",
       "3  199.14398  2.014053e+07    JPL K144/7  \n",
       "4  102.96760  1.879033e+07      IAUCAT03  \n",
       "5  138.93371  2.015030e+07    JPL K155/3  \n",
       "6   93.40960  2.015013e+07   JPL K088/17  \n",
       "7  270.34165  2.008013e+07   JPL K074/27  \n",
       "8   68.76828  2.016080e+07       JPL 160  \n",
       "9  117.80539  2.015111e+07  JPL K1013/12  "
      ]
     },
     "metadata": {},
     "output_type": "display_data"
    },
    {
     "data": {
      "text/plain": [
       "<AxesSubplot:xlabel='q', ylabel='i'>"
      ]
     },
     "metadata": {},
     "output_type": "display_data"
    },
    {
     "data": {
      "image/png": "[encoded data removed]",
      "text/plain": [
       "<Figure size 432x288 with 1 Axes>"
      ]
     },
     "metadata": {},
     "output_type": "display_data"
    }
   ],
   "source": [
    "import pandas as pd\n",
    "data = pd.read_csv(\"data.txt\")\n",
    "display(data)\n",
    "display(data.plot.scatter(x='q', y='i'))"
   ]
  },
  {
   "cell_type": "code",
   "execution_count": 1,
   "metadata": {},
   "outputs": [
    {
     "name": "stdout",
     "output_type": "stream",
     "text": [
      "{'num': '1P', 'name': 'Halley', 'epoch': 49400, 'elements': [0.58597811, 0.96714291, 62.26269, 111.33249, 58.42008, 19860205.89532], 'ref': 'JPL J863/77'}\n",
      "{'num': '3D', 'name': 'Coyote', 'epoch': -9480, 'elements': [0.879073, 0.751299, 13.2164, 221.6588, 250.669, 18321126.6152], 'ref': 'IAUCAT03'}\n"
     ]
    }
   ],
   "source": [
    "file_name = \"data.txt\"\n",
    "\n",
    "data = []\n",
    "with open(file_name) as f:\n",
    "    header = f.readline()\n",
    "    \n",
    "    for line in f:\n",
    "        line = line.strip(\"\\n\").split(\",\")\n",
    "        \n",
    "        num = line[0]\n",
    "        name = line[1].strip()\n",
    "        epoch = int(line[2])\n",
    "        elements = list(map(float, line[3:9]))\n",
    "        ref = line[9]\n",
    "        \n",
    "        data.append(\n",
    "            dict(num=num,  name=name, epoch=epoch, elements=elements, ref=ref)\n",
    "        )\n",
    "\n",
    "print(data[0])\n",
    "\n",
    "for line in data:\n",
    "    line['name'] = 'Coyote'\n",
    "    \n",
    "print(data[2])"
   ]
  },
  {
   "cell_type": "code",
   "execution_count": 43,
   "metadata": {},
   "outputs": [
    {
     "name": "stdout",
     "output_type": "stream",
     "text": [
      "3.1416\n",
      "  3.14\n",
      "+3.14\n",
      "003.14\n",
      "3.142\n",
      "3.1416e+00\n",
      "     42\n",
      "0000042\n",
      "42.0000\n",
      "    Coyote\n",
      "Coyote    \n",
      "Coyote\n",
      "5 8 10\n"
     ]
    }
   ],
   "source": [
    "# f strings are better\n",
    "\n",
    "# Floats\n",
    "x = 3.141592653589793\n",
    "\n",
    "# Rounding\n",
    "print(\"{:6.4f}\".format(x))\n",
    "print(\"{:6.2f}\".format(x))\n",
    "\n",
    "# Padding\n",
    "print(\"{:+5.2f}\".format(x))\n",
    "print(\"{:06.2f}\".format(x))\n",
    "\n",
    "# Scientific notation\n",
    "print(\"{:.4g}\".format(x))\n",
    "print(\"{:.4e}\".format(x))\n",
    "\n",
    "# Integers\n",
    "x = 42\n",
    "\n",
    "# Padding\n",
    "print(f\"{x:7d}\")\n",
    "print(f\"{x:07d}\")\n",
    "print(f\"{x:7.4f}\")\n",
    "\n",
    "#Strings\n",
    "x = \"Coyote\"\n",
    "\n",
    "# Padding\n",
    "print(f\"{x:>10s}\")\n",
    "print(f\"{x:<10s}\")\n",
    "print(x)\n",
    "\n",
    "# Multiple (named) values\n",
    "print(\"{a} {b} {c}\".format(a=5, b=8, c=10))"
   ]
  },
  {
   "cell_type": "code",
   "execution_count": 2,
   "metadata": {},
   "outputs": [],
   "source": [
    "new_file = \"true_data.txt\"\n",
    "\n",
    "# Writing Files\n",
    "with open(new_file, \"w\") as f:\n",
    "    f.write(header)\n",
    "    for line in data:\n",
    "        line_str = \"\"\n",
    "        for key, value in line.items():\n",
    "            if key == \"elements\":\n",
    "                line_str += \",\".join(map(\"{:.3f}\".format, value))\n",
    "            else:\n",
    "                line_str += str(value)\n",
    "            line_str += \",\"\n",
    "        line_str = line_str.strip(\",\")\n",
    "        f.write(line_str + \"\\n\")\n",
    "\n",
    "# Appending\n",
    "with open(new_file, \"a\") as f:\n",
    "    f.write(\"Wile E. Coyote was here...\")"
   ]
  },
  {
   "cell_type": "code",
   "execution_count": 7,
   "metadata": {},
   "outputs": [
    {
     "name": "stdout",
     "output_type": "stream",
     "text": [
      "1.4142135623730951\n",
      "3.141592653589793\n",
      "2.0\n"
     ]
    }
   ],
   "source": [
    "import math\n",
    "\n",
    "print(math.sqrt(2))\n",
    "\n",
    "print(math.pi)\n",
    "\n",
    "print(math.log10(100))\n"
   ]
  },
  {
   "cell_type": "code",
   "execution_count": 58,
   "metadata": {},
   "outputs": [
    {
     "name": "stdout",
     "output_type": "stream",
     "text": [
      "92\n",
      "0.9069402680849336\n",
      "0.7379736910539632\n",
      "0.29995849884347486\n",
      "0.7507629532676002\n",
      "2.1387214836246384\n",
      "1.7823723963482698\n",
      "1.1884345470851194\n",
      "-0.2853405319113513\n",
      "-0.5348676285487685\n",
      "0.5825158848911993\n",
      "-0.5075952342395844\n"
     ]
    },
    {
     "data": {
      "text/plain": [
       "array([ 1.11788447,  2.96879035, -1.07495101,  0.36037234, -1.71690903,\n",
       "        0.89018477, -1.38031966,  0.96766349,  1.47128263,  0.05439361])"
      ]
     },
     "metadata": {},
     "output_type": "display_data"
    }
   ],
   "source": [
    "import random as r\n",
    "\n",
    "print(r.randint(1, 100))\n",
    "print(r.random())\n",
    "for _ in range(10):\n",
    "    print(r.gauss(0, 1))\n",
    "    \n",
    "import numpy as np\n",
    "display(np.random.normal(0, 1, 10))"
   ]
  },
  {
   "cell_type": "code",
   "execution_count": 5,
   "metadata": {},
   "outputs": [
    {
     "name": "stdout",
     "output_type": "stream",
     "text": [
      "['data.txt', 'day3.ipynb', 'new_dir', 'true_data.txt']\n",
      "c:\\Users\\Jared\\OneDrive\\Western\\Courses\\Python Bootcamp\\Day 3\\Lecture\n",
      "c:\\Users\\Jared\\OneDrive\\Western\\Courses\\Python Bootcamp\\Day 3\n",
      "c:\\Users\\Jared\\OneDrive\\Western\\Courses\\Python Bootcamp\\Day 3\\Lecture\\new_dir\n"
     ]
    }
   ],
   "source": [
    "import os\n",
    "\n",
    "print(os.listdir(\".\"))\n",
    "print(os.getcwd())\n",
    "os.chdir(\"..\")\n",
    "print(os.getcwd())\n",
    "os.chdir(\"Lecture\")\n",
    "\n",
    "new_dir = os.path.join(os.getcwd(), \"new_dir\")\n",
    "print(new_dir)\n",
    "\n",
    "if not os.path.exists(new_dir):\n",
    "    os.mkdir(new_dir)\n",
    "else:\n",
    "    os.rmdir(new_dir)"
   ]
  },
  {
   "cell_type": "code",
   "execution_count": 11,
   "metadata": {},
   "outputs": [],
   "source": [
    "file_name = \"topsecret.txt\"\n",
    "file_path = os.path.join(os.getcwd(), file_name)\n",
    "\n",
    "with open(file_path, \"w\") as f:\n",
    "    f.write(\"This is a secret.\")\n",
    "    \n",
    "import time\n",
    "if os.path.exists(file_path):\n",
    "    time.sleep(2)\n",
    "    os.remove(file_path)"
   ]
  },
  {
   "cell_type": "code",
   "execution_count": 16,
   "metadata": {},
   "outputs": [],
   "source": [
    "import shutil\n",
    "\n",
    "with open(file_path, \"w\") as f:\n",
    "    f.write(\"This is a secret.\")\n",
    "\n",
    "shutil.copy(file_path, \"topsecret_copy.txt\") # Copies contents\n",
    "shutil.copy2(file_path, \"topsecret_copy2.txt\") # Copies contents and metadata\n",
    "shutil.move(file_path, \"topsecret_move.txt\") # Moves file\n",
    "\n",
    "time.sleep(2)\n",
    "if os.path.exists(file_path):\n",
    "    os.remove(file_path)\n",
    "if os.path.exists(\"topsecret_copy.txt\"):\n",
    "    os.remove(\"topsecret_copy.txt\")\n",
    "if os.path.exists(\"topsecret_copy2.txt\"):\n",
    "    os.remove(\"topsecret_copy2.txt\")\n",
    "if os.path.exists(\"topsecret_move.txt\"):\n",
    "    os.remove(\"topsecret_move.txt\")"
   ]
  },
  {
   "cell_type": "code",
   "execution_count": 19,
   "metadata": {},
   "outputs": [
    {
     "data": {
      "image/png": "[encoded data removed]",
      "text/plain": [
       "<Figure size 576x576 with 1 Axes>"
      ]
     },
     "metadata": {},
     "output_type": "display_data"
    },
    {
     "name": "stdout",
     "output_type": "stream",
     "text": [
      "calcPi(1_000_000) = 3.144416\n"
     ]
    }
   ],
   "source": [
    "import numpy.random as npr\n",
    "import matplotlib.pyplot as plt\n",
    "plt.style.use(\"seaborn\")\n",
    "\n",
    "def calcPi(iters: int = 100) -> float:\n",
    "    points = npr.random((iters, 2))\n",
    "    circle = points[points[:, 0]**2 + points[:, 1]**2 <= 1]\n",
    "    not_circle = points[points[:, 0]**2 + points[:, 1]**2 > 1]\n",
    "    count = circle.shape[0]\n",
    "\n",
    "    fig, ax = plt.subplots(figsize=(8, 8))\n",
    "    ax.scatter(not_circle[:, 0], not_circle[:, 1], s=10, alpha=0.5)\n",
    "    ax.scatter(circle[:, 0], circle[:, 1], s=10, alpha=0.5)\n",
    "    ax.set_xlabel(\"x\")\n",
    "    ax.set_ylabel(\"y\")\n",
    "    plt.title(\"Value of Pi: {:.3f}\".format(4 * count / iters))\n",
    "    plt.show()\n",
    "\n",
    "    return 4 * count / iters\n",
    "\n",
    "print(f\"{calcPi(1_000_000) = }\")\n",
    "# print(f\"{calcPi(100_000) = }\")\n",
    "# print(f\"{calcPi(100_000_000) = }\")"
   ]
  }
 ],
 "metadata": {
  "kernelspec": {
   "display_name": "Python 3.9.12 ('base')",
   "language": "python",
   "name": "python3"
  },
  "language_info": {
   "codemirror_mode": {
    "name": "ipython",
    "version": 3
   },
   "file_extension": ".py",
   "mimetype": "text/x-python",
   "name": "python",
   "nbconvert_exporter": "python",
   "pygments_lexer": "ipython3",
   "version": "3.9.12"
  },
  "orig_nbformat": 4,
  "vscode": {
   "interpreter": {
    "hash": "f911220fbeb2c6344ecbe62d4c86993e31b532b1f4470593a93b0254da2ba903"
   }
  }
 },
 "nbformat": 4,
 "nbformat_minor": 2
}
