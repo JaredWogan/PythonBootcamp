{
 "cells": [
  {
   "cell_type": "code",
   "execution_count": 2,
   "metadata": {},
   "outputs": [
    {
     "name": "stdout",
     "output_type": "stream",
     "text": [
      "1 1 2 3 5 8 13 21 34 55 89 144 233 377 \n",
      "1.6180371352785146\n"
     ]
    }
   ],
   "source": [
    "# Fibonacci While Loop\n",
    "a, b = 0, 1\n",
    "while b < 500:\n",
    "    print(b, end=\" \")\n",
    "    a, b = b, a + b\n",
    "\n",
    "print(f\"\\n{b/a}\")"
   ]
  },
  {
   "cell_type": "code",
   "execution_count": 3,
   "metadata": {},
   "outputs": [],
   "source": [
    "# while True:\n",
    "#     pass"
   ]
  },
  {
   "cell_type": "code",
   "execution_count": 4,
   "metadata": {},
   "outputs": [
    {
     "name": "stdout",
     "output_type": "stream",
     "text": [
      "Even\n",
      "Even\n",
      "a <= 10\n"
     ]
    }
   ],
   "source": [
    "a = 10\n",
    "\n",
    "print(\"Odd\") if bool(a%2) else print(\"Even\")\n",
    "\n",
    "# Or\n",
    "if a % 2 == 0:\n",
    "    print(\"Even\")\n",
    "else:\n",
    "    print(\"Odd\")\n",
    "    \n",
    "if a <= 10:\n",
    "    print(\"a <= 10\")\n",
    "else:\n",
    "    print(\"a >= 10\")"
   ]
  },
  {
   "cell_type": "code",
   "execution_count": 5,
   "metadata": {},
   "outputs": [
    {
     "name": "stdout",
     "output_type": "stream",
     "text": [
      "True\n",
      "False\n",
      "True\n",
      "True\n",
      "False\n"
     ]
    }
   ],
   "source": [
    "x = 0\n",
    "print(8 == 8)\n",
    "print(1 == 2)\n",
    "print(True == 1)\n",
    "print(False == 0)\n",
    "print(x is None)"
   ]
  },
  {
   "cell_type": "code",
   "execution_count": 6,
   "metadata": {},
   "outputs": [
    {
     "name": "stdout",
     "output_type": "stream",
     "text": [
      "50% off\n"
     ]
    }
   ],
   "source": [
    "# combining conditions\n",
    "age = 8\n",
    "\n",
    "if 0 <= age < 2:\n",
    "    print(\"Free Fare\")\n",
    "elif 2 <= age < 12:\n",
    "    print(r\"50% off\")\n",
    "else:\n",
    "    print(\"Full Fare\")\n",
    "    "
   ]
  },
  {
   "cell_type": "code",
   "execution_count": 7,
   "metadata": {},
   "outputs": [
    {
     "name": "stdout",
     "output_type": "stream",
     "text": [
      "Yes\n",
      "Yes\n",
      "The list is not empty!\n"
     ]
    }
   ],
   "source": [
    "# testing strings\n",
    "\n",
    "test_str = \"It is not safe to go alone. Take this!\"\n",
    "\n",
    "if \"safe\" in test_str:\n",
    "    print(\"Yes\")\n",
    "    \n",
    "# testing lists\n",
    "\n",
    "test_list = [1, 2, 3.14, 4]\n",
    "\n",
    "if 3.14 in test_list:\n",
    "    print(\"Yes\")\n",
    "    \n",
    "if test_list:\n",
    "    print(\"The list is not empty!\")\n",
    "else:\n",
    "    print(\"The list is empty\")"
   ]
  },
  {
   "cell_type": "code",
   "execution_count": 8,
   "metadata": {},
   "outputs": [
    {
     "name": "stdout",
     "output_type": "stream",
     "text": [
      "42\n"
     ]
    }
   ],
   "source": [
    "from math import prod\n",
    "\n",
    "factors = [2, 3, 7]\n",
    "num = 7\n",
    "\n",
    "while num <= prod(factors):\n",
    "    for fac in factors:\n",
    "        if num % fac != 0:\n",
    "            num += 1\n",
    "            break\n",
    "    else:\n",
    "        break\n",
    "print(num)"
   ]
  },
  {
   "cell_type": "code",
   "execution_count": 9,
   "metadata": {},
   "outputs": [
    {
     "name": "stdout",
     "output_type": "stream",
     "text": [
      "1990 is not a leap\n",
      "1991 is not a leap\n",
      "1992 is leap\n",
      "1993 is not a leap\n",
      "1994 is not a leap\n",
      "1995 is not a leap\n",
      "1996 is leap\n",
      "1997 is not a leap\n",
      "1998 is not a leap\n",
      "1999 is not a leap\n",
      "2000 is leap\n",
      "2001 is not a leap\n",
      "2002 is not a leap\n",
      "2003 is not a leap\n",
      "2004 is leap\n",
      "2005 is not a leap\n",
      "2006 is not a leap\n",
      "2007 is not a leap\n",
      "2008 is leap\n",
      "2009 is not a leap\n",
      "2010 is not a leap\n",
      "2011 is not a leap\n",
      "2012 is leap\n",
      "2013 is not a leap\n",
      "2014 is not a leap\n",
      "2015 is not a leap\n",
      "2016 is leap\n",
      "2017 is not a leap\n",
      "2018 is not a leap\n",
      "2019 is not a leap\n",
      "2020 is leap\n",
      "2021 is not a leap\n",
      "2022 is not a leap\n",
      "2023 is not a leap\n",
      "2024 is leap\n",
      "2025 is not a leap\n",
      "2026 is not a leap\n",
      "2027 is not a leap\n",
      "2028 is leap\n",
      "2029 is not a leap\n"
     ]
    }
   ],
   "source": [
    "# mod 4 == leap\n",
    "# mod 100 == not leap\n",
    "# mod 400 == leap\n",
    "\n",
    "years = range(1990, 2030)\n",
    "\n",
    "for year in years:\n",
    "    mod400 = year % 400 == 0\n",
    "    mod100 = year % 100 == 0\n",
    "    mod4 = year % 4 == 0\n",
    "    \n",
    "    if (mod4 and not mod100) or mod400:\n",
    "        print(f\"{year} is leap\")\n",
    "    else:\n",
    "        print(f\"{year} is not a leap\")"
   ]
  },
  {
   "cell_type": "code",
   "execution_count": 10,
   "metadata": {},
   "outputs": [
    {
     "name": "stdout",
     "output_type": "stream",
     "text": [
      "i = 0: 1\n",
      "i = 1: 1\n",
      "i = 2: 2\n",
      "i = 3: 3\n",
      "i = 4: 5\n",
      "i = 5: 8\n",
      "i = 6: 13\n",
      "i = 7: 21\n",
      "i = 8: 34\n",
      "i = 9: 55\n",
      "i = 10: 89\n",
      "i = 11: 144\n",
      "i = 12: 233\n",
      "i = 13: 377\n",
      "i = 14: 610\n",
      "i = 15: 987\n",
      "i = 16: 1597\n",
      "i = 17: 2584\n",
      "i = 18: 4181\n",
      "i = 19: 6765\n",
      "i = 20: 10946\n",
      "i = 21: 17711\n",
      "i = 22: 28657\n",
      "i = 23: 46368\n",
      "i = 24: 75025\n",
      "i = 25: 121393\n",
      "i = 26: 196418\n",
      "i = 27: 317811\n",
      "i = 28: 514229\n",
      "i = 29: 832040\n",
      "i = 30: 1346269\n",
      "i = 31: 2178309\n",
      "i = 32: 3524578\n",
      "i = 33: 5702887\n",
      "i = 34: 9227465\n",
      "i = 35: 14930352\n",
      "i = 36: 24157817\n",
      "i = 37: 39088169\n",
      "i = 38: 63245986\n",
      "i = 39: 102334155\n",
      "i = 40: 165580141\n",
      "i = 41: 267914296\n",
      "i = 42: 433494437\n",
      "i = 43: 701408733\n",
      "i = 44: 1134903170\n",
      "i = 45: 1836311903\n",
      "i = 46: 2971215073\n",
      "i = 47: 4807526976\n",
      "i = 48: 7778742049\n",
      "i = 49: 12586269025\n"
     ]
    }
   ],
   "source": [
    "# for loops\n",
    "a, b = 0, 1\n",
    "for i in range(50):\n",
    "    print(f\"{i = }: {b}\")\n",
    "    a, b = b, a + b"
   ]
  },
  {
   "cell_type": "code",
   "execution_count": 11,
   "metadata": {},
   "outputs": [
    {
     "name": "stdout",
     "output_type": "stream",
     "text": [
      "New York\n",
      "Paris\n",
      "Peckham\n",
      "0 New York\n",
      "1 Paris\n",
      "2 Peckham\n",
      "New York USA\n",
      "Paris France\n",
      "Peckham UK\n"
     ]
    }
   ],
   "source": [
    "cities = [\n",
    "    'New York',\n",
    "    'Paris',\n",
    "    'Peckham'\n",
    "]\n",
    "\n",
    "countries = [\n",
    "    'USA',\n",
    "    'France',\n",
    "    'UK'\n",
    "]\n",
    "\n",
    "for city in cities:\n",
    "    print(city)\n",
    "    \n",
    "for i, city in enumerate(cities):\n",
    "    print(i, city)\n",
    "    \n",
    "for city, country in zip(cities, countries):\n",
    "    print(city, country)"
   ]
  },
  {
   "cell_type": "code",
   "execution_count": 12,
   "metadata": {},
   "outputs": [
    {
     "name": "stdout",
     "output_type": "stream",
     "text": [
      "{'Num': '1P', 'Name': 'Halley', 'Epoch': 49400, 'q': 0.58597811, 'e': 0.96714291, 'i': 62.26269, 'w': 111.33249, 'Node': 58.42008, 'Tp': 19860205.89532, 'Ref': 'JPL J863/77'}\n"
     ]
    }
   ],
   "source": [
    "# Reading Files\n",
    "# import numpy as np\n",
    "# data = np.genfromtxt(\"data.txt\", delimiter=\",\", skip_header=1, dtype=str)\n",
    "# print(data)\n",
    "\n",
    "data = []\n",
    "\n",
    "with open(\"data.txt\", \"r\") as f:\n",
    "    # Reading one line at a time\n",
    "    headings = f.readline().strip(\"\\n\").split(\",\")\n",
    "    for line in f:\n",
    "        items = line.split(\",\")\n",
    "        items[1] = items[1].strip()\n",
    "        items[-1] = items[-1].strip(\"\\n\")\n",
    "        items[2] = int(items[2])\n",
    "        for i in range(3, 9):\n",
    "            items[i] = float(items[i])\n",
    "        data.append(\n",
    "            dict(\n",
    "                (heading, item)\n",
    "                for heading, item in zip(headings, items)\n",
    "            )\n",
    "        )\n",
    "\n",
    "print(data[0])\n",
    "\n",
    "    # Reading one line\n",
    "    # print(f.readline())\n",
    "    \n",
    "    # Reading the entire file\n",
    "    # data = f.read()\n",
    "    # print(data)"
   ]
  },
  {
   "cell_type": "code",
   "execution_count": 13,
   "metadata": {},
   "outputs": [
    {
     "data": {
      "text/html": [
       "<div>\n",
       "<style scoped>\n",
       "    .dataframe tbody tr th:only-of-type {\n",
       "        vertical-align: middle;\n",
       "    }\n",
       "\n",
       "    .dataframe tbody tr th {\n",
       "        vertical-align: top;\n",
       "    }\n",
       "\n",
       "    .dataframe thead th {\n",
       "        text-align: right;\n",
       "    }\n",
       "</style>\n",
       "<table border=\"1\" class=\"dataframe\">\n",
       "  <thead>\n",
       "    <tr style=\"text-align: right;\">\n",
       "      <th></th>\n",
       "      <th>Num</th>\n",
       "      <th>Name</th>\n",
       "      <th>Epoch</th>\n",
       "      <th>q</th>\n",
       "      <th>e</th>\n",
       "      <th>i</th>\n",
       "      <th>w</th>\n",
       "      <th>Node</th>\n",
       "      <th>Tp</th>\n",
       "      <th>Ref</th>\n",
       "    </tr>\n",
       "  </thead>\n",
       "  <tbody>\n",
       "    <tr>\n",
       "      <th>0</th>\n",
       "      <td>1P</td>\n",
       "      <td>Halley</td>\n",
       "      <td>49400</td>\n",
       "      <td>0.585978</td>\n",
       "      <td>0.967143</td>\n",
       "      <td>62.26269</td>\n",
       "      <td>111.33249</td>\n",
       "      <td>58.42008</td>\n",
       "      <td>1.986021e+07</td>\n",
       "      <td>JPL J863/77</td>\n",
       "    </tr>\n",
       "    <tr>\n",
       "      <th>1</th>\n",
       "      <td>2P</td>\n",
       "      <td>Encke</td>\n",
       "      <td>57720</td>\n",
       "      <td>0.335906</td>\n",
       "      <td>0.848333</td>\n",
       "      <td>11.77837</td>\n",
       "      <td>186.56104</td>\n",
       "      <td>334.56111</td>\n",
       "      <td>2.017031e+07</td>\n",
       "      <td>JPL K173/2</td>\n",
       "    </tr>\n",
       "    <tr>\n",
       "      <th>2</th>\n",
       "      <td>3D</td>\n",
       "      <td>Biela</td>\n",
       "      <td>-9480</td>\n",
       "      <td>0.879073</td>\n",
       "      <td>0.751299</td>\n",
       "      <td>13.21640</td>\n",
       "      <td>221.65880</td>\n",
       "      <td>250.66900</td>\n",
       "      <td>1.832113e+07</td>\n",
       "      <td>IAUCAT03</td>\n",
       "    </tr>\n",
       "    <tr>\n",
       "      <th>3</th>\n",
       "      <td>4P</td>\n",
       "      <td>Faye</td>\n",
       "      <td>57262</td>\n",
       "      <td>1.651876</td>\n",
       "      <td>0.569618</td>\n",
       "      <td>9.07029</td>\n",
       "      <td>205.12582</td>\n",
       "      <td>199.14398</td>\n",
       "      <td>2.014053e+07</td>\n",
       "      <td>JPL K144/7</td>\n",
       "    </tr>\n",
       "    <tr>\n",
       "      <th>4</th>\n",
       "      <td>5D</td>\n",
       "      <td>Brorsen</td>\n",
       "      <td>7440</td>\n",
       "      <td>0.589847</td>\n",
       "      <td>0.809796</td>\n",
       "      <td>29.38210</td>\n",
       "      <td>14.94680</td>\n",
       "      <td>102.96760</td>\n",
       "      <td>1.879033e+07</td>\n",
       "      <td>IAUCAT03</td>\n",
       "    </tr>\n",
       "    <tr>\n",
       "      <th>5</th>\n",
       "      <td>6P</td>\n",
       "      <td>d'Arrest</td>\n",
       "      <td>57200</td>\n",
       "      <td>1.361455</td>\n",
       "      <td>0.611422</td>\n",
       "      <td>19.48168</td>\n",
       "      <td>178.11523</td>\n",
       "      <td>138.93371</td>\n",
       "      <td>2.015030e+07</td>\n",
       "      <td>JPL K155/3</td>\n",
       "    </tr>\n",
       "    <tr>\n",
       "      <th>6</th>\n",
       "      <td>7P</td>\n",
       "      <td>Pons-Winnecke</td>\n",
       "      <td>57380</td>\n",
       "      <td>1.238961</td>\n",
       "      <td>0.637617</td>\n",
       "      <td>22.33509</td>\n",
       "      <td>172.50006</td>\n",
       "      <td>93.40960</td>\n",
       "      <td>2.015013e+07</td>\n",
       "      <td>JPL K088/17</td>\n",
       "    </tr>\n",
       "    <tr>\n",
       "      <th>7</th>\n",
       "      <td>8P</td>\n",
       "      <td>Tuttle</td>\n",
       "      <td>54374</td>\n",
       "      <td>1.027117</td>\n",
       "      <td>0.819800</td>\n",
       "      <td>54.98318</td>\n",
       "      <td>207.50925</td>\n",
       "      <td>270.34165</td>\n",
       "      <td>2.008013e+07</td>\n",
       "      <td>JPL K074/27</td>\n",
       "    </tr>\n",
       "    <tr>\n",
       "      <th>8</th>\n",
       "      <td>9P</td>\n",
       "      <td>Tempel 1</td>\n",
       "      <td>57375</td>\n",
       "      <td>1.542369</td>\n",
       "      <td>0.509819</td>\n",
       "      <td>10.47332</td>\n",
       "      <td>179.18727</td>\n",
       "      <td>68.76828</td>\n",
       "      <td>2.016080e+07</td>\n",
       "      <td>JPL 160</td>\n",
       "    </tr>\n",
       "    <tr>\n",
       "      <th>9</th>\n",
       "      <td>10P</td>\n",
       "      <td>Tempel 2</td>\n",
       "      <td>57262</td>\n",
       "      <td>1.417645</td>\n",
       "      <td>0.537352</td>\n",
       "      <td>12.02891</td>\n",
       "      <td>195.54767</td>\n",
       "      <td>117.80539</td>\n",
       "      <td>2.015111e+07</td>\n",
       "      <td>JPL K1013/12</td>\n",
       "    </tr>\n",
       "  </tbody>\n",
       "</table>\n",
       "</div>"
      ],
      "text/plain": [
       "   Num           Name  Epoch         q         e         i          w  \\\n",
       "0   1P  Halley         49400  0.585978  0.967143  62.26269  111.33249   \n",
       "1   2P  Encke          57720  0.335906  0.848333  11.77837  186.56104   \n",
       "2   3D  Biela          -9480  0.879073  0.751299  13.21640  221.65880   \n",
       "3   4P  Faye           57262  1.651876  0.569618   9.07029  205.12582   \n",
       "4   5D  Brorsen         7440  0.589847  0.809796  29.38210   14.94680   \n",
       "5   6P  d'Arrest       57200  1.361455  0.611422  19.48168  178.11523   \n",
       "6   7P  Pons-Winnecke  57380  1.238961  0.637617  22.33509  172.50006   \n",
       "7   8P  Tuttle         54374  1.027117  0.819800  54.98318  207.50925   \n",
       "8   9P  Tempel 1       57375  1.542369  0.509819  10.47332  179.18727   \n",
       "9  10P  Tempel 2       57262  1.417645  0.537352  12.02891  195.54767   \n",
       "\n",
       "        Node            Tp           Ref  \n",
       "0   58.42008  1.986021e+07   JPL J863/77  \n",
       "1  334.56111  2.017031e+07    JPL K173/2  \n",
       "2  250.66900  1.832113e+07      IAUCAT03  \n",
       "3  199.14398  2.014053e+07    JPL K144/7  \n",
       "4  102.96760  1.879033e+07      IAUCAT03  \n",
       "5  138.93371  2.015030e+07    JPL K155/3  \n",
       "6   93.40960  2.015013e+07   JPL K088/17  \n",
       "7  270.34165  2.008013e+07   JPL K074/27  \n",
       "8   68.76828  2.016080e+07       JPL 160  \n",
       "9  117.80539  2.015111e+07  JPL K1013/12  "
      ]
     },
     "metadata": {},
     "output_type": "display_data"
    },
    {
     "data": {
      "text/plain": [
       "<AxesSubplot:xlabel='q', ylabel='i'>"
      ]
     },
     "metadata": {},
     "output_type": "display_data"
    },
    {
     "data": {
      "image/png": "[encoded data removed]",
      "text/plain": [
       "<Figure size 432x288 with 1 Axes>"
      ]
     },
     "metadata": {
      "needs_background": "light"
     },
     "output_type": "display_data"
    }
   ],
   "source": [
    "import pandas as pd\n",
    "data = pd.read_csv(\"data.txt\")\n",
    "display(data)\n",
    "display(data.plot.scatter(x='q', y='i'))"
   ]
  },
  {
   "cell_type": "code",
   "execution_count": 14,
   "metadata": {},
   "outputs": [
    {
     "name": "stdout",
     "output_type": "stream",
     "text": [
      "1\n",
      "2\n",
      "Fizz\n",
      "4\n",
      "Buzz\n",
      "Fizz\n",
      "7\n",
      "8\n",
      "Fizz\n",
      "Buzz\n",
      "11\n",
      "Fizz\n",
      "13\n",
      "14\n",
      "FizzBuzz\n",
      "16\n",
      "17\n",
      "Fizz\n",
      "19\n",
      "Buzz\n",
      "Fizz\n",
      "22\n",
      "23\n",
      "Fizz\n",
      "Buzz\n",
      "26\n",
      "Fizz\n",
      "28\n",
      "29\n",
      "FizzBuzz\n",
      "31\n",
      "32\n",
      "Fizz\n",
      "34\n",
      "Buzz\n",
      "Fizz\n",
      "37\n",
      "38\n",
      "Fizz\n",
      "Buzz\n",
      "41\n",
      "Fizz\n",
      "43\n",
      "44\n",
      "FizzBuzz\n",
      "46\n",
      "47\n",
      "Fizz\n",
      "49\n",
      "Buzz\n",
      "Fizz\n",
      "52\n",
      "53\n",
      "Fizz\n",
      "Buzz\n",
      "56\n",
      "Fizz\n",
      "58\n",
      "59\n",
      "FizzBuzz\n",
      "61\n",
      "62\n",
      "Fizz\n",
      "64\n",
      "Buzz\n",
      "Fizz\n",
      "67\n",
      "68\n",
      "Fizz\n",
      "Buzz\n"
     ]
    }
   ],
   "source": [
    "# Print integers 1 to N, but print “Fizz” if an integer is divisible by 3\n",
    "# “Buzz” if an integer is divisible by 5\n",
    "# and “FizzBuzz” if an integer is divisible by both 3 and 5.\n",
    "\n",
    "def buzz(n: int = 20) -> None:\n",
    "    for i in range(1, n+1):\n",
    "        mod3 = not bool(i%3)\n",
    "        mod5 = not bool(i%5)\n",
    "        if mod3 and mod5:\n",
    "            print(\"FizzBuzz\")\n",
    "            continue\n",
    "        if mod3:\n",
    "            print(\"Fizz\")\n",
    "            continue\n",
    "        if mod5:\n",
    "            print(\"Buzz\")\n",
    "            continue\n",
    "        print(i)\n",
    "buzz(70)"
   ]
  },
  {
   "cell_type": "markdown",
   "metadata": {},
   "source": [
    "<style>\n",
    "h1 {\n",
    "    color: #fad921;\n",
    "}\n",
    "</style>\n",
    "\n",
    "# Banana\n",
    "\n",
    "## This is a banana:\n",
    "\n",
    "<img src=\"https://images.unsplash.com/photo-1481349518771-20055b2a7b24?ixlib=rb-1.2.1&ixid=MnwxMjA3fDB8MHxzZWFyY2h8M3x8cmFuZG9tfGVufDB8fDB8fA%3D%3D&w=1000&q=80\"></img>\n",
    "\n",
    "## This is the equation of a banana:\n",
    "$$\n",
    "x(t) = ((-64/37 \\sin(38/25 - 18 t) - 33/14 \\sin(23/15 - 16 t) - 137/34 \\sin(23/15 - 14 t) - \\cdots ))\n",
    "% 281/36 \\sin(31/20 - 10 t) - 165/17 \\sin(64/41 - 8 t) - 2019/34 \\sin(39/25 - 4 t) - 1279/35 \\sin(87/56 - 3 t) - 2409/26 \\sin(36/23 - 2 t) + 13503/41 \\sin(t + 74/47) + 674/29 \\sin(5 t + 11/7) + 143/42 \\sin(6 t + 313/67) + 9/7 \\sin(7 t + 49/33) + 77/31 \\sin(9 t + 76/51) + 59/33 \\sin(11 t + 39/25) + 21/29 \\sin(12 t + 83/18) + 67/21 \\sin(13 t + 47/30) + 10/43 \\sin(15 t + 15/11) + 12/31 \\sin(17 t + 29/23) + 11/42 \\sin(19 t + 34/25) + 13575/23) θ(23 π - t) θ(t - 19 π) + (4712/35 \\sin(t + 11/7) + 3011/32 \\sin(2 t + 80/51) + 2605/23 \\sin(3 t + 69/44) + 2438/55 \\sin(4 t + 155/33) + 355/29 \\sin(5 t + 77/48) + 257/25 \\sin(6 t + 131/28) + 112/9 \\sin(7 t + 85/53) + 276/25 \\sin(8 t + 74/47) + 29/22 \\sin(9 t + 118/27) + 262/77 \\sin(10 t + 51/11) + 117/16 \\sin(11 t + 52/33) + 384/53 \\sin(12 t + 173/37) + 64/9 \\sin(13 t + 47/30) + 108/43 \\sin(14 t + 17/11) + 37311/53) θ(19 π - t) θ(t - 15 π) + (-38/61 \\sin(31/21 - 15 t) - 309/35 \\sin(36/23 - 14 t) - 1/25 \\sin(28/23 - 13 t) - 432/23 \\sin(64/41 - 10 t) - 14242/39 \\sin(58/37 - 2 t) - 181/25 \\sin(36/23 - t) + 449/22 \\sin(3 t + 19/12) + 2839/45 \\sin(4 t + 179/38) + 1013/78 \\sin(5 t + 80/17) + 2063/45 \\sin(6 t + 146/31) + 41/27 \\sin(7 t + 42/25) + 89/71 \\sin(8 t + 169/37) + 64/63 \\sin(9 t + 293/65) + 55/21 \\sin(11 t + 75/16) + 103/48 \\sin(12 t + 73/45) + 12/59 \\sin(16 t + 70/39) + 73/38 \\sin(17 t + 30/19) + 25521/25) θ(15 π - t) θ(t - 11 π) + (9049/69 \\sin(t + 212/45) + 128451/350 \\sin(2 t + 49/31) + 1507/39 \\sin(3 t + 141/88) + 3461/161 \\sin(4 t + 66/41) + 373/18 \\sin(5 t + 59/37) + 331/20 \\sin(6 t + 107/67) + 802/27 \\sin(7 t + 99/62) + 12/11 \\sin(8 t + 76/43) + 39/14 \\sin(9 t + 82/47) + 16/13 \\sin(10 t + 55/31) + 381/34 \\sin(11 t + 31/19) + 223/44 \\sin(12 t + 18/11) + 35/23 \\sin(13 t + 127/27) + 12/31 \\sin(14 t + 273/62) - 17471/43) θ(11 π - t) θ(t - 7 π) + (-1162/93 \\sin(14/9 - 14 t) - 172/23 \\sin(25/16 - 11 t) - 599/28 \\sin(64/41 - 10 t) - 1131/40 \\sin(61/39 - 8 t) - 496/21 \\sin(58/37 - 7 t) - 445/22 \\sin(69/44 - 6 t) - 2695/32 \\sin(47/30 - 4 t) - 2255/26 \\sin(36/23 - 3 t) + 5557/31 \\sin(t + 113/72) + 7879/53 \\sin(2 t + 52/33) + 1301/69 \\sin(5 t + 91/57) + 71/9 \\sin(9 t + 47/29) + 175/18 \\sin(12 t + 80/17) + 152/29 \\sin(13 t + 45/28) + 4628/29) θ(7 π - t) θ(t - 3 π) + (-45/11 \\sin(23/16 - 24 t) - 263/47 \\sin(31/22 - 20 t) - 103/27 \\sin(25/17 - 16 t) - 18/5 \\sin(53/38 - 15 t) - 146/31 \\sin(48/31 - 11 t) + 1349/14 \\sin(t + 61/13) + 37592/57 \\sin(2 t + 68/43) + 1954/37 \\sin(3 t + 44/27) + 1025/31 \\sin(4 t + 29/18) + 20/7 \\sin(5 t + 37/22) + 1058/37 \\sin(6 t + 8/5) + 251/49 \\sin(7 t + 33/19) + 889/51 \\sin(8 t + 57/35) + 493/25 \\sin(9 t + 13/8) + 423/211 \\sin(10 t + 44/27) + 171/44 \\sin(12 t + 82/49) + 490/27 \\sin(13 t + 5/3) + 71/24 \\sin(14 t + 57/32) + 433/40 \\sin(17 t + 37/22) + 96/19 \\sin(18 t + 37/20) + 3/14 \\sin(19 t + 9/31) + 63/13 \\sin(21 t + 39/23) + 214/47 \\sin(22 t + 46/25) + 95/31 \\sin(23 t + 44/27) + 89/45 \\sin(25 t + 112/67) + 85/41 \\sin(26 t + 41/21) - 111432/139) θ(3 π - t) θ(t + π)) θ(sqrt(sgn(\\sin(t/2))))\n",
    "$$\n",
    "\n",
    "$$\n",
    "y(t) = ((-25/19 \\sin(29/20 - 19 t) - 29/16 \\sin(41/27 - 18 t) - 18/13 \\sin(23/16 - 16 t) - \\cdots ))\n",
    "% 26/11 \\sin(34/23 - 15 t) - 605/151 \\sin(53/35 - 14 t) - 25/32 \\sin(41/29 - 13 t) - 38/23 \\sin(56/37 - 12 t) - 53/39 \\sin(28/19 - 11 t) - 162/19 \\sin(54/35 - 10 t) - 61/17 \\sin(40/27 - 9 t) - 97/20 \\sin(48/31 - 8 t) - 67/26 \\sin(47/32 - 7 t) - 573/22 \\sin(14/9 - 6 t) - 19/8 \\sin(23/16 - 5 t) - 680/23 \\sin(17/11 - 3 t) - 7523/21 \\sin(61/39 - 2 t) + 2667/80 \\sin(t + 36/23) + 131/36 \\sin(4 t + 61/13) + 23/38 \\sin(17 t + 67/45) + 14375/26) θ(23 π - t) θ(t - 19 π) + (17603/108 \\sin(t + 113/24) + 2227/39 \\sin(2 t + 11/7) + 5232/31 \\sin(3 t + 58/37) + 745/54 \\sin(4 t + 14/3) + 524/25 \\sin(5 t + 59/37) + 136/29 \\sin(6 t + 331/72) + 37/41 \\sin(7 t + 48/13) + 460/33 \\sin(8 t + 19/12) + 112/17 \\sin(9 t + 49/30) + 29/28 \\sin(10 t + 72/17) + 282/59 \\sin(11 t + 13/8) + 61/35 \\sin(12 t + 68/15) + 181/37 \\sin(13 t + 101/63) + 61/30 \\sin(14 t + 57/35) - 3904/13) θ(19 π - t) θ(t - 15 π) + (-169/33 \\sin(59/38 - 14 t) - 342/37 \\sin(14/9 - 9 t) - 717/43 \\sin(102/65 - 8 t) - 289/46 \\sin(73/47 - 6 t) - 273/17 \\sin(39/25 - 5 t) - 3578/37 \\sin(36/23 - 4 t) + 5961/68 \\sin(t + 179/38) + 15033/49 \\sin(2 t + 63/40) + 3071/41 \\sin(3 t + 11/7) + 695/36 \\sin(7 t + 46/29) + 120/23 \\sin(10 t + 80/17) + 36/7 \\sin(11 t + 19/12) + 67/30 \\sin(12 t + 136/29) + 121/31 \\sin(13 t + 113/24) + 259/53 \\sin(15 t + 27/17) + 53/18 \\sin(16 t + 481/103) + 1/6 \\sin(17 t + 1893/946) - 6765/37) θ(15 π - t) θ(t - 11 π) + (-304/49 \\sin(63/41 - 14 t) - 243/14 \\sin(48/31 - 10 t) - 135/47 \\sin(35/23 - 9 t) - 19/3 \\sin(31/20 - 8 t) - 1313/37 \\sin(57/37 - 6 t) - 187/16 \\sin(44/29 - 5 t) - 3809/42 \\sin(67/43 - 4 t) + 3251/45 \\sin(t + 113/24) + 3207/20 \\sin(2 t + 19/12) + 3845/22 \\sin(3 t + 19/12) + 762/31 \\sin(7 t + 41/26) + 26/17 \\sin(11 t + 25/17) + 7/13 \\sin(12 t + 191/109) + 173/35 \\sin(13 t + 64/41) + 1004/7) θ(11 π - t) θ(t - 7 π) + (-196/33 \\sin(25/16 - 14 t) - 356/47 \\sin(39/25 - 10 t) - 181/11 \\sin(82/53 - 8 t) - 457/87 \\sin(49/32 - 4 t) + 139/87 \\sin(t + 16/19) + 12549/28 \\sin(2 t + 63/40) + 130/27 \\sin(3 t + 64/47) + 82/13 \\sin(5 t + 19/12) + 375/32 \\sin(6 t + 25/16) + 9/29 \\sin(7 t + 50/13) + 343/44 \\sin(9 t + 86/53) + 83/33 \\sin(11 t + 123/77) + 415/38 \\sin(12 t + 113/24) + 173/27 \\sin(13 t + 19/12) - 17222/45) θ(7 π - t) θ(t - 3 π) + (-4/7 \\sin(32/25 - 26 t) - 149/27 \\sin(74/53 - 25 t) - 293/40 \\sin(44/31 - 21 t) - 28/45 \\sin(15/23 - 20 t) - 643/90 \\sin(45/31 - 17 t) - 146/37 \\sin(29/22 - 16 t) - 256/35 \\sin(47/31 - 13 t) - 2859/301 \\sin(38/27 - 12 t) - 429/25 \\sin(47/30 - 7 t) - 9387/23 \\sin(47/30 - t) + 5035/32 \\sin(2 t + 41/26) + 101/17 \\sin(3 t + 33/19) + 1388/27 \\sin(4 t + 67/42) + 133/67 \\sin(5 t + 49/25) + 788/19 \\sin(6 t + 91/57) + 58/31 \\sin(8 t + 61/46) + 9/13 \\sin(9 t + 50/21) + 1033/37 \\sin(10 t + 70/43) + 174/23 \\sin(11 t + 61/13) + 416/21 \\sin(14 t + 63/38) + 48/19 \\sin(15 t + 921/460) + 232/23 \\sin(18 t + 17/10) + 289/46 \\sin(19 t + 65/36) + 167/65 \\sin(22 t + 74/43) + 103/24 \\sin(23 t + 97/53) + 75/29 \\sin(24 t + 55/34) - 5384/11) θ(3 π - t) θ(t + π)) θ(sqrt(sgn(\\sin(t/2))))\n",
    "$$\n",
    "\n",
    "#### P.S. I am not a doctor, so please consult your doctor before making any changes to your diet or exercise routine.\n",
    "\n",
    "#### P.P.S. Those equations are very long, so please see wolfram alpha before trying to make your own bananas at home."
   ]
  },
  {
   "cell_type": "code",
   "execution_count": 7,
   "metadata": {},
   "outputs": [],
   "source": [
    "import matplotlib.pyplot as plt\n",
    "import numpy as np\n",
    "from numpy import pi, sqrt\n",
    "\n",
    "def sgn(t):\n",
    "    t[t <= 0] = -1\n",
    "    t[t > 0] = 1\n",
    "    return t\n",
    "\n",
    "def θ(t):\n",
    "    t[t < 0] = 0\n",
    "    t[t > 0] = 1\n",
    "    return t\n",
    "\n",
    "def banana_x(t):\n",
    "    return ((-64/37*np.sin(38/25 - 18*t) - 33/14*np.sin(23/15 - 16*t) - 137/34*np.sin(23/15 - 14*t) - 281/36*np.sin(31/20 - 10*t) - 165/17*np.sin(64/41 - 8*t) - 2019/34*np.sin(39/25 - 4*t) - 1279/35*np.sin(87/56 - 3*t) - 2409/26*np.sin(36/23 - 2*t) + 13503/41*np.sin(t + 74/47) + 674/29*np.sin(5*t + 11/7) + 143/42*np.sin(6*t + 313/67) + 9/7*np.sin(7*t + 49/33) + 77/31*np.sin(9*t + 76/51) + 59/33*np.sin(11*t + 39/25) + 21/29*np.sin(12*t + 83/18) + 67/21*np.sin(13*t + 47/30) + 10/43*np.sin(15*t + 15/11) + 12/31*np.sin(17*t + 29/23) + 11/42*np.sin(19*t + 34/25) + 13575/23) * θ(23*pi - t) * θ(t - 19*pi) + (4712/35 * np.sin(t + 11/7) + 3011/32 * np.sin(2*t + 80/51) + 2605/23 * np.sin(3*t + 69/44) + 2438/55*np.sin(4*t + 155/33) + 355/29*np.sin(5*t + 77/48) + 257/25*np.sin(6*t + 131/28) + 112/9*np.sin(7*t + 85/53) + 276/25*np.sin(8*t + 74/47) + 29/22*np.sin(9*t + 118/27) + 262/77*np.sin(10*t + 51/11) + 117/16*np.sin(11*t + 52/33) + 384/53*np.sin(12*t + 173/37) + 64/9*np.sin(13*t + 47/30) + 108/43*np.sin(14*t + 17/11) + 37311/53) * θ(19*pi - t) * θ(t - 15*pi) + (-38/61*np.sin(31/21 - 15*t) - 309/35*np.sin(36/23 - 14*t) - 1/25*np.sin(28/23 - 13*t) - 432/23*np.sin(64/41 - 10*t) - 14242/39*np.sin(58/37 - 2*t) - 181/25*np.sin(36/23 - t) + 449/22*np.sin(3*t + 19/12) + 2839/45*np.sin(4*t + 179/38) + 1013/78*np.sin(5*t + 80/17) + 2063/45*np.sin(6*t + 146/31) + 41/27*np.sin(7*t + 42/25) + 89/71*np.sin(8*t + 169/37) + 64/63*np.sin(9*t + 293/65) + 55/21*np.sin(11*t + 75/16) + 103/48*np.sin(12*t + 73/45) + 12/59*np.sin(16*t + 70/39) + 73/38*np.sin(17*t + 30/19) + 25521/25) * θ(15*pi - t) * θ(t - 11*pi) + (9049/69*np.sin(t + 212/45) + 128451/350*np.sin(2*t + 49/31) + 1507/39*np.sin(3*t + 141/88) + 3461/161*np.sin(4*t + 66/41) + 373/18*np.sin(5*t + 59/37) + 331/20*np.sin(6*t + 107/67) + 802/27*np.sin(7*t + 99/62) + 12/11*np.sin(8*t + 76/43) + 39/14*np.sin(9*t + 82/47) + 16/13*np.sin(10*t + 55/31) + 381/34*np.sin(11*t + 31/19) + 223/44*np.sin(12*t + 18/11) + 35/23*np.sin(13*t + 127/27) + 12/31*np.sin(14*t + 273/62) - 17471/43) * θ(11*pi - t) * θ(t - 7*pi) + (-1162/93*np.sin(14/9 - 14*t) - 172/23*np.sin(25/16 - 11*t) - 599/28*np.sin(64/41 - 10*t) - 1131/40*np.sin(61/39 - 8*t) - 496/21*np.sin(58/37 - 7*t) - 445/22*np.sin(69/44 - 6*t) - 2695/32*np.sin(47/30 - 4*t) - 2255/26*np.sin(36/23 - 3*t) + 5557/31*np.sin(t + 113/72) + 7879/53*np.sin(2*t + 52/33) + 1301/69*np.sin(5*t + 91/57) + 71/9*np.sin(9*t + 47/29) + 175/18*np.sin(12*t + 80/17) + 152/29*np.sin(13*t + 45/28) + 4628/29) * θ(7*pi - t) * θ(t - 3*pi) + (-45/11*np.sin(23/16 - 24*t) - 263/47*np.sin(31/22 - 20*t) - 103/27*np.sin(25/17 - 16*t) - 18/5*np.sin(53/38 - 15*t) - 146/31*np.sin(48/31 - 11*t) + 1349/14*np.sin(t + 61/13) + 37592/57*np.sin(2*t + 68/43) + 1954/37*np.sin(3*t + 44/27) + 1025/31*np.sin(4*t + 29/18) + 20/7*np.sin(5*t + 37/22) + 1058/37*np.sin(6*t + 8/5) + 251/49*np.sin(7*t + 33/19) + 889/51*np.sin(8*t + 57/35) + 493/25*np.sin(9*t + 13/8) + 423/211*np.sin(10*t + 44/27) + 171/44*np.sin(12*t + 82/49) + 490/27*np.sin(13*t + 5/3) + 71/24*np.sin(14*t + 57/32) + 433/40*np.sin(17*t + 37/22) + 96/19*np.sin(18*t + 37/20) + 3/14*np.sin(19*t + 9/31) + 63/13*np.sin(21*t + 39/23) + 214/47*np.sin(22*t + 46/25) + 95/31*np.sin(23*t + 44/27) + 89/45*np.sin(25*t + 112/67) + 85/41*np.sin(26*t + 41/21) - 111432/139) * θ(3*pi - t) * θ(t + pi)) * θ(sqrt(sgn(np.sin(t/2))))\n",
    "def banana_y(t):\n",
    "    return ((-25/19*np.sin(29/20 - 19*t) - 29/16*np.sin(41/27 - 18*t) - 18/13*np.sin(23/16 - 16*t) - 26/11*np.sin(34/23 - 15*t) - 605/151*np.sin(53/35 - 14*t) - 25/32*np.sin(41/29 - 13*t) - 38/23*np.sin(56/37 - 12*t) - 53/39*np.sin(28/19 - 11*t) - 162/19*np.sin(54/35 - 10*t) - 61/17*np.sin(40/27 - 9*t) - 97/20*np.sin(48/31 - 8*t) - 67/26*np.sin(47/32 - 7*t) - 573/22*np.sin(14/9 - 6*t) - 19/8*np.sin(23/16 - 5*t) - 680/23*np.sin(17/11 - 3*t) - 7523/21*np.sin(61/39 - 2*t) + 2667/80*np.sin(t + 36/23) + 131/36*np.sin(4*t + 61/13) + 23/38*np.sin(17*t + 67/45) + 14375/26) * θ(23*pi - t) * θ(t - 19*pi) + (17603/108 * np.sin(t + 113/24) + 2227/39 * np.sin(2*t + 11/7) + 5232/31 * np.sin(3*t + 58/37) + 745/54*np.sin(4*t + 14/3) + 524/25*np.sin(5*t + 59/37) + 136/29*np.sin(6*t + 331/72) + 37/41*np.sin(7*t + 48/13) + 460/33*np.sin(8*t + 19/12) + 112/17*np.sin(9*t + 49/30) + 29/28*np.sin(10*t + 72/17) + 282/59*np.sin(11*t + 13/8) + 61/35*np.sin(12*t + 68/15) + 181/37*np.sin(13*t + 101/63) + 61/30*np.sin(14*t + 57/35) - 3904/13) * θ(19*pi - t) * θ(t - 15*pi) + (-169/33*np.sin(59/38 - 14*t) - 342/37*np.sin(14/9 - 9*t) - 717/43*np.sin(102/65 - 8*t) - 289/46*np.sin(73/47 - 6*t) - 273/17*np.sin(39/25 - 5*t) - 3578/37*np.sin(36/23 - 4*t) + 5961/68*np.sin(t + 179/38) + 15033/49*np.sin(2*t + 63/40) + 3071/41*np.sin(3*t + 11/7) + 695/36*np.sin(7*t + 46/29) + 120/23*np.sin(10*t + 80/17) + 36/7*np.sin(11*t + 19/12) + 67/30*np.sin(12*t + 136/29) + 121/31*np.sin(13*t + 113/24) + 259/53*np.sin(15*t + 27/17) + 53/18*np.sin(16*t + 481/103) + 1/6*np.sin(17*t + 1893/946) - 6765/37) * θ(15*pi - t) * θ(t - 11*pi) + (-304/49*np.sin(63/41 - 14*t) - 243/14*np.sin(48/31 - 10*t) - 135/47*np.sin(35/23 - 9*t) - 19/3*np.sin(31/20 - 8*t) - 1313/37*np.sin(57/37 - 6*t) - 187/16*np.sin(44/29 - 5*t) - 3809/42*np.sin(67/43 - 4*t) + 3251/45*np.sin(t + 113/24) + 3207/20*np.sin(2*t + 19/12) + 3845/22*np.sin(3*t + 19/12) + 762/31*np.sin(7*t + 41/26) + 26/17*np.sin(11*t + 25/17) + 7/13*np.sin(12*t + 191/109) + 173/35*np.sin(13*t + 64/41) + 1004/7) * θ(11*pi - t) * θ(t - 7*pi) + (-196/33*np.sin(25/16 - 14*t) - 356/47*np.sin(39/25 - 10*t) - 181/11*np.sin(82/53 - 8*t) - 457/87*np.sin(49/32 - 4*t) + 139/87*np.sin(t + 16/19) + 12549/28*np.sin(2*t + 63/40) + 130/27*np.sin(3*t + 64/47) + 82/13*np.sin(5*t + 19/12) + 375/32*np.sin(6*t + 25/16) + 9/29*np.sin(7*t + 50/13) + 343/44*np.sin(9*t + 86/53) + 83/33*np.sin(11*t + 123/77) + 415/38*np.sin(12*t + 113/24) + 173/27*np.sin(13*t + 19/12) - 17222/45) * θ(7*pi - t) * θ(t - 3*pi) + (-4/7*np.sin(32/25 - 26*t) - 149/27*np.sin(74/53 - 25*t) - 293/40*np.sin(44/31 - 21*t) - 28/45*np.sin(15/23 - 20*t) - 643/90*np.sin(45/31 - 17*t) - 146/37*np.sin(29/22 - 16*t) - 256/35*np.sin(47/31 - 13*t) - 2859/301*np.sin(38/27 - 12*t) - 429/25*np.sin(47/30 - 7*t) - 9387/23*np.sin(47/30 - t) + 5035/32*np.sin(2*t + 41/26) + 101/17*np.sin(3*t + 33/19) + 1388/27*np.sin(4*t + 67/42) + 133/67*np.sin(5*t + 49/25) + 788/19*np.sin(6*t + 91/57) + 58/31*np.sin(8*t + 61/46) + 9/13*np.sin(9*t + 50/21) + 1033/37*np.sin(10*t + 70/43) + 174/23*np.sin(11*t + 61/13) + 416/21*np.sin(14*t + 63/38) + 48/19*np.sin(15*t + 921/460) + 232/23*np.sin(18*t + 17/10) + 289/46*np.sin(19*t + 65/36) + 167/65*np.sin(22*t + 74/43) + 103/24*np.sin(23*t + 97/53) + 75/29*np.sin(24*t + 55/34) - 5384/11) * θ(3*pi - t) * θ(t + pi)) * θ(sqrt(sgn(np.sin(t/2))))"
   ]
  },
  {
   "cell_type": "code",
   "execution_count": 15,
   "metadata": {},
   "outputs": [
    {
     "data": {
      "image/png": "[encoded data removed]",
      "text/plain": [
       "<Figure size 864x864 with 1 Axes>"
      ]
     },
     "metadata": {
      "needs_background": "light"
     },
     "output_type": "display_data"
    }
   ],
   "source": [
    "import warnings\n",
    "\n",
    "with warnings.catch_warnings():\n",
    "    warnings.filterwarnings(\"ignore\", category=RuntimeWarning)\n",
    "    \n",
    "    fig, ax = plt.subplots(figsize=(12,12))\n",
    "\n",
    "    n = 100_000\n",
    "\n",
    "    p = np.linspace(0, 24*pi, n)\n",
    "\n",
    "    x = np.empty((n,))\n",
    "    y = np.empty((n,))\n",
    "    \n",
    "    x = banana_x(p)\n",
    "    y = banana_y(p)\n",
    "\n",
    "    ax.scatter(x, y, c=\"#fcba03\", s=2)"
   ]
  }
 ],
 "metadata": {
  "kernelspec": {
   "display_name": "Python 3.9.12 ('base')",
   "language": "python",
   "name": "python3"
  },
  "language_info": {
   "codemirror_mode": {
    "name": "ipython",
    "version": 3
   },
   "file_extension": ".py",
   "mimetype": "text/x-python",
   "name": "python",
   "nbconvert_exporter": "python",
   "pygments_lexer": "ipython3",
   "version": "3.9.12"
  },
  "orig_nbformat": 4,
  "vscode": {
   "interpreter": {
    "hash": "f911220fbeb2c6344ecbe62d4c86993e31b532b1f4470593a93b0254da2ba903"
   }
  }
 },
 "nbformat": 4,
 "nbformat_minor": 2
}
