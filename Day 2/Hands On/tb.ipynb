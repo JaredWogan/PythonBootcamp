{
 "cells": [
  {
   "cell_type": "code",
   "execution_count": 6,
   "metadata": {},
   "outputs": [
    {
     "name": "stdout",
     "output_type": "stream",
     "text": [
      "Mercury: Actual: 0.39, Bode: 0.4, perc_diff = -2.50%\n",
      "Venus: Actual: 0.72, Bode: 0.7, perc_diff = 2.86%\n",
      "Earth: Actual: 1.0, Bode: 1.0, perc_diff = 0.00%\n",
      "Mars: Actual: 1.52, Bode: 1.6, perc_diff = -5.00%\n",
      "Ceres: Actual: 2.77, Bode: 2.8, perc_diff = -1.07%\n",
      "Jupiter: Actual: 5.2, Bode: 5.2, perc_diff = 0.00%\n",
      "Saturn: Actual: 9.55, Bode: 10.0, perc_diff = -4.50%\n",
      "Uranus: Actual: 19.22, Bode: 19.599999999999998, perc_diff = -1.94%\n",
      "Neptune: Actual: 30.11, Bode: 38.8, perc_diff = -22.40%\n"
     ]
    }
   ],
   "source": [
    "from math import inf\n",
    "\n",
    "planets = {\n",
    "    \"Mercury\": 0.39,\n",
    "    \"Venus\": 0.72,\n",
    "    \"Earth\": 1.0,\n",
    "    \"Mars\": 1.52,\n",
    "    \"Ceres\": 2.77,\n",
    "    \"Jupiter\": 5.2,\n",
    "    \"Saturn\": 9.55,\n",
    "    \"Uranus\": 19.22,\n",
    "    \"Neptune\": 30.11,\n",
    "}\n",
    "\n",
    "def tb_law(n: int = 0) -> float:\n",
    "    if n == -1:\n",
    "        return 0.4\n",
    "    return 0.4 + 0.3 * 2 ** n\n",
    "\n",
    "for i, (planet, dist) in enumerate(planets.items()):\n",
    "    bode = tb_law(i - 1)\n",
    "    perc_diff = (dist - bode) / bode * 100\n",
    "    print(f\"{planet}: Actual: {dist}, Bode: {bode}, {perc_diff = :.2f}%\")"
   ]
  }
 ],
 "metadata": {
  "kernelspec": {
   "display_name": "Python 3.9.12 ('base')",
   "language": "python",
   "name": "python3"
  },
  "language_info": {
   "codemirror_mode": {
    "name": "ipython",
    "version": 3
   },
   "file_extension": ".py",
   "mimetype": "text/x-python",
   "name": "python",
   "nbconvert_exporter": "python",
   "pygments_lexer": "ipython3",
   "version": "3.9.12"
  },
  "orig_nbformat": 4,
  "vscode": {
   "interpreter": {
    "hash": "f911220fbeb2c6344ecbe62d4c86993e31b532b1f4470593a93b0254da2ba903"
   }
  }
 },
 "nbformat": 4,
 "nbformat_minor": 2
}
