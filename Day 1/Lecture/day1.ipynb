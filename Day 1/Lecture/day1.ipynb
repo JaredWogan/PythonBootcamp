{
 "cells": [
  {
   "cell_type": "code",
   "execution_count": 2,
   "metadata": {},
   "outputs": [
    {
     "name": "stdout",
     "output_type": "stream",
     "text": [
      "Hello world from Jared!\n"
     ]
    }
   ],
   "source": [
    "# name = input(\"What is your name? \")\n",
    "# This is a comment\n",
    "name = \"Jared\"\n",
    "print(\"Hello world from \" + name + \"!\")"
   ]
  },
  {
   "cell_type": "code",
   "execution_count": 3,
   "metadata": {},
   "outputs": [
    {
     "name": "stdout",
     "output_type": "stream",
     "text": [
      "a=15.9, b=6\n"
     ]
    }
   ],
   "source": [
    "a = 15.9\n",
    "b = 6\n",
    "\n",
    "print(f\"{a=}, {b=}\")"
   ]
  },
  {
   "cell_type": "code",
   "execution_count": 4,
   "metadata": {},
   "outputs": [
    {
     "name": "stdout",
     "output_type": "stream",
     "text": [
      "Addition:  21.9\n",
      "Subtraction:  9.9\n",
      "Multiplication:  95.4\n",
      "Division:  2.65\n"
     ]
    }
   ],
   "source": [
    "print(\"Addition: \", a+b)\n",
    "print(\"Subtraction: \", a-b)\n",
    "print(\"Multiplication: \", a*b)\n",
    "print(\"Division: \", a/b)"
   ]
  },
  {
   "cell_type": "code",
   "execution_count": 5,
   "metadata": {},
   "outputs": [
    {
     "name": "stdout",
     "output_type": "stream",
     "text": [
      "Integer Division:  2.0\n",
      "Modulus:  3.9000000000000004\n",
      "a Squared:  252.81\n",
      "a Cubed:  4019.679\n",
      "a^9:  64949246777.4414\n",
      "sqrt 2: 1.4142\n",
      "Rounding:  0.3667\n"
     ]
    }
   ],
   "source": [
    "print(\"Integer Division: \", a//b)\n",
    "print(\"Modulus: \", a%b)\n",
    "print(\"a Squared: \", a**2)\n",
    "print(\"a Cubed: \", a**3)\n",
    "print(\"a^9: \", a**9)\n",
    "print(f\"sqrt 2: {2**(1/2):.4f}\")\n",
    "print(\"Rounding: \", round(1.1/3, 4))"
   ]
  },
  {
   "cell_type": "code",
   "execution_count": 6,
   "metadata": {},
   "outputs": [
    {
     "name": "stdout",
     "output_type": "stream",
     "text": [
      "BEFORE: 15.9 6\n",
      "AFTER: 6 15.9\n"
     ]
    }
   ],
   "source": [
    "# Swappping variables\n",
    "print(\"BEFORE:\", a, b)\n",
    "a, b = b, a\n",
    "print(\"AFTER:\", a, b)"
   ]
  },
  {
   "cell_type": "code",
   "execution_count": 7,
   "metadata": {},
   "outputs": [
    {
     "name": "stdout",
     "output_type": "stream",
     "text": [
      "Monty Python Holy Grail\n",
      "Monty Python and the Holy Grail\n",
      "M\n",
      "n\n",
      "Monty\n",
      "Python\n",
      "Holy\n",
      "MnyPto\n",
      "ot yhn\n",
      "ot y\n"
     ]
    }
   ],
   "source": [
    "name = \"Monty Python\"\n",
    "title = 'Holy Grail'\n",
    "print(name, title)\n",
    "print(name, \"and the\", title)\n",
    "print(name[0])\n",
    "print(name[-1])\n",
    "print(name[0:5])\n",
    "print(name[6:])\n",
    "print(title[:4])\n",
    "print(name[::2])\n",
    "print(name[1::2])\n",
    "print(name[1:8:2])"
   ]
  },
  {
   "cell_type": "code",
   "execution_count": 8,
   "metadata": {},
   "outputs": [
    {
     "name": "stdout",
     "output_type": "stream",
     "text": [
      "Monty Python\n",
      "Holy Grail\n",
      "len(name) = 12\n"
     ]
    }
   ],
   "source": [
    "print(name[:-1]+\"n\")\n",
    "print(title)\n",
    "print(f\"{len(name) = }\")"
   ]
  },
  {
   "cell_type": "code",
   "execution_count": 9,
   "metadata": {},
   "outputs": [
    {
     "name": "stdout",
     "output_type": "stream",
     "text": [
      "First Line\n",
      "Second Line\n"
     ]
    }
   ],
   "source": [
    "print(\"First Line\\nSecond Line\")"
   ]
  },
  {
   "cell_type": "code",
   "execution_count": 10,
   "metadata": {},
   "outputs": [
    {
     "name": "stdout",
     "output_type": "stream",
     "text": [
      "Hello! Hello! Hello! Hello! Hello! Hello! Hello! Hello! Hello! Hello! \n"
     ]
    }
   ],
   "source": [
    "print(\"Hello! \"*10)"
   ]
  },
  {
   "cell_type": "code",
   "execution_count": 11,
   "metadata": {},
   "outputs": [
    {
     "name": "stdout",
     "output_type": "stream",
     "text": [
      "2\n"
     ]
    }
   ],
   "source": [
    "print(name.count(\"n\"))"
   ]
  },
  {
   "cell_type": "code",
   "execution_count": 12,
   "metadata": {},
   "outputs": [
    {
     "name": "stdout",
     "output_type": "stream",
     "text": [
      "Manty Pythan\n"
     ]
    }
   ],
   "source": [
    "print(name.replace(\"o\", \"a\"))"
   ]
  },
  {
   "cell_type": "code",
   "execution_count": 13,
   "metadata": {},
   "outputs": [
    {
     "name": "stdout",
     "output_type": "stream",
     "text": [
      "3.14 3.14 3\n",
      "<class 'str'> <class 'float'> <class 'int'>\n"
     ]
    }
   ],
   "source": [
    "# Type conversion\n",
    "x = \"3.14\"\n",
    "y = float(x)\n",
    "z = int(y)\n",
    "print(x, y, z)\n",
    "print(type(x), type(y), type(z))"
   ]
  },
  {
   "cell_type": "code",
   "execution_count": 14,
   "metadata": {},
   "outputs": [
    {
     "name": "stdout",
     "output_type": "stream",
     "text": [
      "semyorka\n"
     ]
    }
   ],
   "source": [
    "a = \"rosemead\"\n",
    "b = \"new york\"\n",
    "print(a[2:5]+b[4:]+'a')"
   ]
  },
  {
   "cell_type": "code",
   "execution_count": 15,
   "metadata": {},
   "outputs": [
    {
     "name": "stdout",
     "output_type": "stream",
     "text": [
      "[11, 12, 14, 15, 16, 17]\n",
      "Post Apollo-13 Commanders: ['Shephard', 'Scott', 'Young', 'Cernan']\n",
      "['Lovell', 'Conrad', 'Shephard', 'Scott', 'Young', 'Cernan']\n",
      "Cancelled: [11, 12, 14, 15, 16, 17, 18, 19]\n",
      "18\n"
     ]
    }
   ],
   "source": [
    "# Lists\n",
    "apollo_moon = [11, 12, 14, 15, 16, 17]\n",
    "print(apollo_moon)\n",
    "\n",
    "apollo_commanders = [\"Armstrong\", \"Conrad\", \"Shephard\", \"Scott\", \"Young\", \"Cernan\"]\n",
    "print(\"Post Apollo-13 Commanders:\", apollo_commanders[2:])\n",
    "apollo_commanders[0] = \"Lovell\"\n",
    "print(apollo_commanders)\n",
    "apollo_moon.append(18)\n",
    "apollo_moon.append(19)\n",
    "print(\"Cancelled:\", apollo_moon)\n",
    "last = apollo_moon.pop()\n",
    "last = apollo_moon.pop()\n",
    "print(last)"
   ]
  },
  {
   "cell_type": "code",
   "execution_count": 16,
   "metadata": {},
   "outputs": [
    {
     "name": "stdout",
     "output_type": "stream",
     "text": [
      "[11, 12, 14, 15, 16, 17]\n"
     ]
    }
   ],
   "source": [
    "apollo_moon.index(11)\n",
    "print(apollo_moon)"
   ]
  },
  {
   "cell_type": "code",
   "execution_count": 17,
   "metadata": {},
   "outputs": [
    {
     "name": "stdout",
     "output_type": "stream",
     "text": [
      "[17, 16, 15, 14, 12, 11]\n"
     ]
    }
   ],
   "source": [
    "apollo_moon.reverse()\n",
    "print(apollo_moon)"
   ]
  },
  {
   "cell_type": "code",
   "execution_count": 18,
   "metadata": {},
   "outputs": [
    {
     "name": "stdout",
     "output_type": "stream",
     "text": [
      "[11, 12, 14, 15, 16, 17]\n"
     ]
    }
   ],
   "source": [
    "print(apollo_moon[::-1])"
   ]
  },
  {
   "cell_type": "code",
   "execution_count": 19,
   "metadata": {},
   "outputs": [
    {
     "name": "stdout",
     "output_type": "stream",
     "text": [
      "Pete Rick Al ['John', 'Jeff']\n"
     ]
    }
   ],
   "source": [
    "apollo12_crew = [\"Pete\", \"Rick\", \"Al\", \"John\", \"Jeff\"]\n",
    "commander, cm_pilot, lm_pilot, *others = apollo12_crew\n",
    "print(commander, cm_pilot, lm_pilot, others)"
   ]
  },
  {
   "cell_type": "code",
   "execution_count": 20,
   "metadata": {},
   "outputs": [
    {
     "name": "stdout",
     "output_type": "stream",
     "text": [
      "[[1, 2], [3, 4]]\n",
      "2\n"
     ]
    }
   ],
   "source": [
    "list2d = [\n",
    "    [1, 2],\n",
    "    [3, 4]\n",
    "]\n",
    "print(list2d)\n",
    "print(list2d[0][1])"
   ]
  },
  {
   "cell_type": "code",
   "execution_count": 21,
   "metadata": {},
   "outputs": [
    {
     "name": "stdout",
     "output_type": "stream",
     "text": [
      "[1969, 'Apollo 12', ['Conrad', 'Gordon', 'Bean'], 10.19194]\n",
      "Al Bean\n"
     ]
    }
   ],
   "source": [
    "mission_details = [1969, \"Apollo 12\", [\"Conrad\", \"Gordon\", \"Bean\"], 10.19194]\n",
    "print(mission_details)\n",
    "print(lm_pilot, mission_details[2][2])"
   ]
  },
  {
   "cell_type": "code",
   "execution_count": 22,
   "metadata": {},
   "outputs": [
    {
     "name": "stdout",
     "output_type": "stream",
     "text": [
      "[1939, 1940, 1941, 1942, 1943, 1944, 1945]\n"
     ]
    }
   ],
   "source": [
    "ww2 = [1939, 1940, 1941, 1942, 1943, 1944, 1945]\n",
    "print(ww2)"
   ]
  },
  {
   "cell_type": "code",
   "execution_count": 23,
   "metadata": {},
   "outputs": [
    {
     "name": "stdout",
     "output_type": "stream",
     "text": [
      "[1939, 1940, 1941, 1942, 1943, 1944, 1945]\n"
     ]
    }
   ],
   "source": [
    "ww2 = list(range(1939, 1946))\n",
    "print(ww2)"
   ]
  },
  {
   "cell_type": "code",
   "execution_count": 24,
   "metadata": {},
   "outputs": [
    {
     "name": "stdout",
     "output_type": "stream",
     "text": [
      "['1939', '1940', '1941', '1942', '1943', '1944', '1945']\n"
     ]
    }
   ],
   "source": [
    "ww2 = list(map(str, ww2))\n",
    "print(ww2)"
   ]
  },
  {
   "cell_type": "code",
   "execution_count": 25,
   "metadata": {},
   "outputs": [
    {
     "name": "stdout",
     "output_type": "stream",
     "text": [
      "1939 - 1940 - 1941 - 1942 - 1943 - 1944 - 1945\n"
     ]
    }
   ],
   "source": [
    "print(\" - \".join(ww2))"
   ]
  },
  {
   "cell_type": "code",
   "execution_count": 40,
   "metadata": {},
   "outputs": [
    {
     "name": "stdout",
     "output_type": "stream",
     "text": [
      "91 23 1 3\n",
      "[1, 1, 1, 2, 20, 21, 22, 23]\n",
      "[1, 1, 1, 2, 20, 21, 22, 23]\n",
      "[23, 22, 21, 20, 2, 1, 1, 1]\n"
     ]
    }
   ],
   "source": [
    "x = [1, 2, 20, 21, 22, 23, 1, 1]\n",
    "print(sum(x), max(x), min(x), x.count(1))\n",
    "\n",
    "x.sort()\n",
    "print(x)\n",
    "\n",
    "print(sorted(x))\n",
    "\n",
    "x.reverse()\n",
    "print(x)"
   ]
  },
  {
   "cell_type": "code",
   "execution_count": 37,
   "metadata": {},
   "outputs": [
    {
     "name": "stdout",
     "output_type": "stream",
     "text": [
      "[1, 2, 3, 4] [100, 2, 3, 4]\n"
     ]
    }
   ],
   "source": [
    "# shallow vs. deep copy\n",
    "a = [1, 2, 3, 4]\n",
    "b = a.copy()\n",
    "b[0] = 100\n",
    "print(a, b)"
   ]
  },
  {
   "cell_type": "code",
   "execution_count": 81,
   "metadata": {},
   "outputs": [
    {
     "name": "stdout",
     "output_type": "stream",
     "text": [
      "[1, 2, 3] [4, [1, 2, 3]] [99, [100, 2, 3]]\n"
     ]
    }
   ],
   "source": [
    "from copy import deepcopy, copy\n",
    "\n",
    "x = [1, 2, 3]\n",
    "y = [4, x]\n",
    "\n",
    "# z = y\n",
    "# z = list(y)\n",
    "# z = y.copy()\n",
    "# z = copy(y)\n",
    "z = deepcopy(y)\n",
    "\n",
    "z[0] = 99\n",
    "z[1][0] = 100\n",
    "print(x, y, z)"
   ]
  },
  {
   "cell_type": "code",
   "execution_count": null,
   "metadata": {},
   "outputs": [],
   "source": []
  }
 ],
 "metadata": {
  "kernelspec": {
   "display_name": "Python 3.9.12 ('base')",
   "language": "python",
   "name": "python3"
  },
  "language_info": {
   "codemirror_mode": {
    "name": "ipython",
    "version": 3
   },
   "file_extension": ".py",
   "mimetype": "text/x-python",
   "name": "python",
   "nbconvert_exporter": "python",
   "pygments_lexer": "ipython3",
   "version": "3.9.12"
  },
  "orig_nbformat": 4,
  "vscode": {
   "interpreter": {
    "hash": "f911220fbeb2c6344ecbe62d4c86993e31b532b1f4470593a93b0254da2ba903"
   }
  }
 },
 "nbformat": 4,
 "nbformat_minor": 2
}
